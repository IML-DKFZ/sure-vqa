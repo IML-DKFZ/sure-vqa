{
 "cells": [
  {
   "cell_type": "code",
   "execution_count": 13,
   "metadata": {},
   "outputs": [],
   "source": [
    "import json\n",
    "import ipywidgets as widgets\n",
    "from IPython.display import display, Image, HTML\n",
    "from pathlib import Path"
   ]
  },
  {
   "cell_type": "code",
   "execution_count": 14,
   "metadata": {},
   "outputs": [
    {
     "data": {
      "application/vnd.jupyter.widget-view+json": {
       "model_id": "40d28d31438f4cf6b9d6c96625390821",
       "version_major": 2,
       "version_minor": 0
      },
      "text/plain": [
       "VBox(children=(HTML(value='[INST] You are a helpful evaluator to evaluate answers to questions about biomedica…"
      ]
     },
     "metadata": {},
     "output_type": "display_data"
    },
    {
     "data": {
      "application/vnd.jupyter.widget-view+json": {
       "model_id": "0048929aa30f4597b5239dcd413a86a9",
       "version_major": 2,
       "version_minor": 0
      },
      "text/plain": [
       "HTML(value='')"
      ]
     },
     "metadata": {},
     "output_type": "display_data"
    }
   ],
   "source": [
    "base_path = Path(\"/home/kckahl/E132-Projekte/Projects/2024_Erkan_Kahl_VLMRobustness\")\n",
    "\n",
    "dataset = \"SLAKE\"\n",
    "rater_name = \"selen\"\n",
    "open_closed = \"open\"\n",
    "exp_path = base_path / f\"Experiments_Cluster_Sweep/{dataset}/ia3/llava-{dataset}_train_all-finetune_ia3_lr3e-2_seed123/eval/{dataset}_val_all\"\n",
    "results_file = exp_path / \"test_results.json\"\n",
    "selected_questions_file = base_path / dataset / f\"rater_study_{open_closed}.json\"\n",
    "instructions_file = base_path / \"Scripts/mistral_prompt_gemba_descriptive.txt\" if open_closed == \"open\" else base_path / \"Scripts/mistral_prompt_closed.txt\"\n",
    "ratings_save_file = exp_path / f\"human_metrics_{open_closed}_{rater_name.lower()}.json\"\n",
    "\n",
    "with open(selected_questions_file, 'r') as f:\n",
    "    selected_questions = json.load(f)\n",
    "\n",
    "with open(results_file, 'r') as f:\n",
    "    results = json.load(f)\n",
    "\n",
    "selected_question_ids = [element[\"qid\"] for element in selected_questions]\n",
    "current_index = 0\n",
    "max_index = len(selected_question_ids)\n",
    "ratings = {}\n",
    "\n",
    "\n",
    "def display_current_question():\n",
    "    global current_index\n",
    "    selected_question_id = selected_question_ids[current_index]\n",
    "    element = [element for element in results if element[\"qid\"] == selected_question_id]\n",
    "    if len(element) == 1:\n",
    "        element = element[0]\n",
    "        question_widget.value = f\"<b>Question:</b> {element['question']}<br><b>GT:</b> {element['gt']}<br><b>Pred:</b> {element['pred']}<br><b>QID:</b> {element['qid']}\"\n",
    "    else:\n",
    "        print(f\"Question with qid {selected_question_id} not found\")\n",
    "    rate_text.value = str(ratings.get(selected_question_id, \"\"))\n",
    "    \n",
    "def on_next_button_clicked(b):\n",
    "    global current_index, max_index\n",
    "    current_index = (current_index + 1) % max_index\n",
    "    display_current_question()\n",
    "\n",
    "def on_previous_button_clicked(b):\n",
    "    global current_index, max_index\n",
    "    if current_index == 0:\n",
    "        return\n",
    "    current_index = (current_index - 1) % max_index\n",
    "    display_current_question()\n",
    "\n",
    "def on_rate_button_clicked(b):\n",
    "    global current_index, ratings\n",
    "    selected_question_id = selected_question_ids[current_index]\n",
    "    try:\n",
    "        rating_score = int(rate_text.value)\n",
    "        if open_closed == \"open\" and rating_score not in range(1,6):\n",
    "            raise\n",
    "        if open_closed == \"closed\" and rating_score not in [0,1]:\n",
    "            raise\n",
    "        ratings[selected_question_id] = rating_score\n",
    "        display_ratings()\n",
    "    except:\n",
    "        print(\"Enter an integer between 1 and 5 for open ended and between 0 and 1 for closed ended questions\")\n",
    "\n",
    "\n",
    "def on_save_clicked(b):\n",
    "    rated_questions = [q for q in results if q['qid'] in ratings.keys()]\n",
    "    ratings_formatted = [\n",
    "        {\n",
    "            \"qid\": element['qid'],\n",
    "            \"question\": element['question'],\n",
    "            \"gt\": element['gt'],\n",
    "            \"pred\": element['pred'],\n",
    "            \"answer_type\": element['answer_type'],\n",
    "            \"human_score\": ratings[element['qid']]\n",
    "        }\n",
    "        for element in rated_questions\n",
    "    ]\n",
    "    with open(ratings_save_file, 'w') as f:\n",
    "        data = json.dump(ratings_formatted, f, indent=4)\n",
    "    print(\"saved\")\n",
    "\n",
    "\n",
    "with open(instructions_file, 'r') as file:\n",
    "    instructions = file.read()\n",
    "instructions = instructions[3:].replace(\"\\n\", \"<br>\").split(\"Here are some instructions on the input and output format:\")[0]\n",
    "instructions += \"========================================<br>\"\n",
    "\n",
    "instruction_widget = widgets.HTML(value=f\"{instructions}\")\n",
    "question_widget = widgets.HTML()\n",
    "previous_button = widgets.Button(description=\"Previous\")\n",
    "next_button = widgets.Button(description=\"Next\")\n",
    "rate_text = widgets.Text(\n",
    "    value='',\n",
    "    placeholder='',\n",
    "    disabled=False\n",
    ")\n",
    "rate_button = widgets.Button(description=\"Rate\")\n",
    "save_button = widgets.Button(description=\"Save ratings to file\")\n",
    "\n",
    "next_button.on_click(on_next_button_clicked)\n",
    "previous_button.on_click(on_previous_button_clicked)\n",
    "rate_button.on_click(on_rate_button_clicked)\n",
    "save_button.on_click(on_save_clicked)\n",
    "\n",
    "display_current_question()\n",
    "\n",
    "buttons_previous_next = widgets.HBox([previous_button, next_button])\n",
    "rate_widget = widgets.HBox([rate_text, rate_button])\n",
    "ui = widgets.VBox([instruction_widget, question_widget, rate_widget, buttons_previous_next, save_button])\n",
    "display(ui)\n",
    "\n",
    "rated_questions_widget = widgets.HTML()\n",
    "\n",
    "def display_ratings():\n",
    "    rated_questions = [q for q in results if q['qid'] in ratings.keys()]\n",
    "    rated_questions_widget.value = f\"================<br><b>RATED QUESTIONS (total {len(ratings.keys())})</b><br>\" +  \"<br>================<br>\".join(f\"<b>Question:</b> {element['question']}<br><b>GT:</b> {element['gt']}<br><b>Pred:</b> {element['pred']}<br><b>Rating:</b> {ratings[element['qid']]}<br><b>QID:</b> {element['qid']}\" for element in rated_questions)\n",
    "\n",
    "display(rated_questions_widget)"
   ]
  }
 ],
 "metadata": {
  "kernelspec": {
   "display_name": "medical-vlm-robustness",
   "language": "python",
   "name": "python3"
  },
  "language_info": {
   "codemirror_mode": {
    "name": "ipython",
    "version": 3
   },
   "file_extension": ".py",
   "mimetype": "text/x-python",
   "name": "python",
   "nbconvert_exporter": "python",
   "pygments_lexer": "ipython3",
   "version": "3.10.13"
  }
 },
 "nbformat": 4,
 "nbformat_minor": 2
}
