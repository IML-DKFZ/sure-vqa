{
 "cells": [
  {
   "cell_type": "code",
   "execution_count": 11,
   "metadata": {},
   "outputs": [],
   "source": [
    "import json\n",
    "from pathlib import Path\n",
    "import ipywidgets as widgets\n",
    "from IPython.display import display, Image, HTML\n",
    "import random\n",
    "import pandas as pd"
   ]
  },
  {
   "cell_type": "code",
   "execution_count": 12,
   "metadata": {},
   "outputs": [],
   "source": [
    "dataset = \"OVQA\"\n",
    "balanced = False\n",
    "answer_type = \"OPEN\""
   ]
  },
  {
   "cell_type": "code",
   "execution_count": 13,
   "metadata": {},
   "outputs": [
    {
     "name": "stdout",
     "output_type": "stream",
     "text": [
      "262\n",
      "109\n",
      "55\n",
      "41\n",
      "25\n"
     ]
    }
   ],
   "source": [
    "scores_path = Path(f\"/home/kckahl/E132-Projekte/Projects/2024_Erkan_Kahl_VLMRobustness/Experiments_Cluster_Sweep/{dataset}/ia3/llava-{dataset}_train_all-finetune_ia3_lr3e-2_seed123/eval/{dataset}_val_all/mistral_metrics.json\")\n",
    "with open(scores_path, 'r') as f:\n",
    "    scores = json.load(f)\n",
    "scores_df = pd.DataFrame(scores[1:]).set_index(\"qid\")\n",
    "scores_df_equal = scores_df.loc[scores_df[\"gt\"] == scores_df[\"pred\"]]\n",
    "scores_df_non_equal = scores_df.loc[scores_df[\"gt\"] != scores_df[\"pred\"]]\n",
    "print(len(scores_df_non_equal.loc[scores_df_non_equal[\"mistral_score\"] == 1]))\n",
    "print(len(scores_df_non_equal.loc[scores_df_non_equal[\"mistral_score\"] == 2]))\n",
    "print(len(scores_df_non_equal.loc[scores_df_non_equal[\"mistral_score\"] == 3]))\n",
    "print(len(scores_df_non_equal.loc[scores_df_non_equal[\"mistral_score\"] == 4]))\n",
    "print(len(scores_df_non_equal.loc[scores_df_non_equal[\"mistral_score\"] == 5]))"
   ]
  },
  {
   "cell_type": "code",
   "execution_count": 14,
   "metadata": {},
   "outputs": [],
   "source": [
    "if balanced:\n",
    "    rater_study_path = f\"/nvme/VLMRobustness/{dataset}/rater_study_open.json\"\n",
    "    rater_study_non_balanced = pd.read_json(rater_study_path)\n",
    "    rater_study_non_balanced = rater_study_non_balanced.set_index(\"qid\")\n",
    "    scores_rater_study_non_balanced = scores_df.loc[scores_df.index.isin(rater_study_non_balanced.index)]\n",
    "    scores_rater_study_non_balanced"
   ]
  },
  {
   "cell_type": "code",
   "execution_count": 15,
   "metadata": {},
   "outputs": [
    {
     "name": "stdout",
     "output_type": "stream",
     "text": [
      "492\n"
     ]
    },
    {
     "data": {
      "application/vnd.jupyter.widget-view+json": {
       "model_id": "8e7c7024f28e462f8644ccad332c95f2",
       "version_major": 2,
       "version_minor": 0
      },
      "text/plain": [
       "VBox(children=(HTML(value='<b>Question:</b> What is abnormal about the radial head?<br><b>Answer:</b> Fracture…"
      ]
     },
     "metadata": {},
     "output_type": "display_data"
    },
    {
     "data": {
      "application/vnd.jupyter.widget-view+json": {
       "model_id": "14e65f76f5fb41caafc1dae2db90b7ec",
       "version_major": 2,
       "version_minor": 0
      },
      "text/plain": [
       "HTML(value='')"
      ]
     },
     "metadata": {},
     "output_type": "display_data"
    }
   ],
   "source": [
    "from collections import Counter\n",
    "\n",
    "base_path = Path(f\"/nvme/VLMRobustness/{dataset}\")\n",
    "\n",
    "json_file_path = base_path / \"validate.json\"\n",
    "if balanced:\n",
    "    output_file_path = base_path / f\"rater_study_{answer_type.lower()}_balanced.json\"\n",
    "else:\n",
    "    output_file_path = base_path / f\"rater_study_{answer_type.lower()}.json\"\n",
    "\n",
    "with open(json_file_path, 'r') as f:\n",
    "    data = json.load(f)\n",
    "#data = [element for element in data if element.get(\"q_lang\")==\"en\"]\n",
    "data = [element for element in data if element.get(\"answer_type\")==answer_type]\n",
    "if balanced:\n",
    "    data = [element for element in data if element.get(\"qid\") in list(scores_df_non_equal.index) and element.get(\"qid\") not in list(rater_study_non_balanced.index)]\n",
    "else:\n",
    "    data = [element for element in data if element.get(\"qid\") in list(scores_df_non_equal.index)]\n",
    "print(len(data))\n",
    "\n",
    "# Initialize index and max index\n",
    "current_index = 0\n",
    "max_index = len(data)\n",
    "selected_question_ids = []\n",
    "selected_questions = []\n",
    "selected_questions_scores = []\n",
    "\n",
    "def display_current_question():\n",
    "    global current_index\n",
    "    add_button.disabled = False\n",
    "    remove_button.disabled = True\n",
    "    element = data[current_index]\n",
    "    if element[\"qid\"] in selected_question_ids:\n",
    "        add_button.disabled = True\n",
    "        remove_button.disabled = False\n",
    "    id_text.value = \"\"\n",
    "    question_widget.value = f\"<b>Question:</b> {element['question']}<br><b>Answer:</b> {element['answer']}<br><b>QID:</b> {element['qid']}\"\n",
    "\n",
    "def on_next_button_clicked(b):\n",
    "    global current_index, max_index\n",
    "    current_index = (current_index + 1) % max_index\n",
    "    display_current_question()\n",
    "\n",
    "def on_previous_button_clicked(b):\n",
    "    global current_index, max_index\n",
    "    if current_index == 0:\n",
    "        return\n",
    "    current_index = (current_index - 1) % max_index\n",
    "    display_current_question()\n",
    "\n",
    "def on_random_button_clicked(b):\n",
    "    global current_index, max_index\n",
    "    current_index = random.randint(0, max_index)\n",
    "    display_current_question()\n",
    "\n",
    "def on_add_button_clicked(b):\n",
    "    global current_index, max_index, selected_questions, selected_question_ids\n",
    "    element = data[current_index]\n",
    "    selected_question_ids.append(element[\"qid\"])\n",
    "    selected_questions.append(element)\n",
    "    selected_questions_scores.append(scores_df.loc[element[\"qid\"]][\"mistral_score\"])\n",
    "    add_button.disabled = True\n",
    "    remove_button.diabled = False\n",
    "    display_selected_questions()\n",
    "\n",
    "def on_remove_button_clicked(b):\n",
    "    global current_index, max_index, selected_questions, selected_question_ids\n",
    "    element = data[current_index]\n",
    "    selected_question_ids.remove(element[\"qid\"])\n",
    "    selected_questions = [e for e in selected_questions if e[\"qid\"]!=element[\"qid\"]]\n",
    "    add_button.disabled = False\n",
    "    remove_button.disabled = True\n",
    "    display_selected_questions()\n",
    "\n",
    "def on_id_button_clicked(b):\n",
    "    global current_index, max_index\n",
    "    question = [(index, element) for index, element in enumerate(data) if str(element[\"qid\"]) == id_text.value]\n",
    "    if len(question) == 1:\n",
    "        current_index = question[0][0]\n",
    "        display_current_question()\n",
    "    else:\n",
    "        print(f\"couldn't find question {id_text.value}\")\n",
    "\n",
    "def on_random_balanced_clicked(b):\n",
    "    global current_index\n",
    "    score_counter = Counter(selected_questions_scores)\n",
    "    less_than_four = [score for score in range(1,6) if score not in score_counter.keys() or score_counter[score] < 4 or score_counter[score] == len(scores_df_non_equal.loc[scores_df_non_equal[\"mistral_score\"] == score])]\n",
    "    if len(less_than_four) == 0:\n",
    "        print(\"No scores left with less than 4 selected questions\")\n",
    "    if len(less_than_four) == 1 and less_than_four[0] == 5:\n",
    "        df_5_non_equal = scores_df_non_equal.loc[scores_df_non_equal[\"mistral_score\"] == 5]\n",
    "        if len(df_5_non_equal) == score_counter[5]:\n",
    "            print(\"No more non-equal 5 scores left and no other scores left with less than 4 selected questions\")\n",
    "    random_score = random.choice(less_than_four)\n",
    "    random_qid = scores_df_non_equal.loc[(scores_df_non_equal[\"mistral_score\"] == random_score) & ~scores_df_non_equal.index.isin(rater_study_non_balanced.index)].sample().index.values[0]\n",
    "    question = [(index, element) for index, element in enumerate(data) if element[\"qid\"] == random_qid]\n",
    "    current_index = question[0][0]\n",
    "    display_current_question()\n",
    "\n",
    "def on_save_clicked(b):\n",
    "    with open(output_file_path, 'w') as f:\n",
    "        data = json.dump(selected_questions, f, indent=4)\n",
    "    print(\"saved\")\n",
    "\n",
    "\n",
    "question_widget = widgets.HTML()\n",
    "previous_button = widgets.Button(description=\"Previous\")\n",
    "next_button = widgets.Button(description=\"Next\")\n",
    "random_button = widgets.Button(description=\"Random Sample\")\n",
    "add_button = widgets.Button(description=\"Add Sample to Eval\")\n",
    "remove_button = widgets.Button(description=\"Remove Sample from Eval\", enabled=False)\n",
    "id_text = widgets.Text(\n",
    "    value='',\n",
    "    placeholder='',\n",
    "    disabled=False\n",
    ")\n",
    "id_button = widgets.Button(description=\"Jump to ID\")\n",
    "save_button = widgets.Button(description=\"Save questions to file\")\n",
    "\n",
    "next_button.on_click(on_next_button_clicked)\n",
    "previous_button.on_click(on_previous_button_clicked)\n",
    "if balanced:\n",
    "    random_button.on_click(on_random_balanced_clicked)\n",
    "else:\n",
    "    random_button.on_click(on_random_button_clicked)\n",
    "add_button.on_click(on_add_button_clicked)\n",
    "remove_button.on_click(on_remove_button_clicked)\n",
    "id_button.on_click(on_id_button_clicked)\n",
    "save_button.on_click(on_save_clicked)\n",
    "\n",
    "# Display the first image and information\n",
    "display_current_question()\n",
    "\n",
    "# Layout the widgets\n",
    "buttons_previous_next_random = widgets.HBox([previous_button, next_button, random_button])\n",
    "select_id = widgets.HBox([id_text, id_button])\n",
    "add_remove_button = widgets.HBox([add_button, remove_button])\n",
    "ui = widgets.VBox([question_widget, buttons_previous_next_random, select_id, add_remove_button, save_button])\n",
    "display(ui)\n",
    "\n",
    "selected_questions_widget = widgets.HTML()\n",
    "\n",
    "def display_selected_questions():\n",
    "    selected_questions_widget.value = f\"================<br><b>SELECTED QUESTIONS (total {len(selected_questions)})</b><br>\" +  \"<br>================<br>\".join(f\"<b>Question:</b> {element['question']}<br><b>Answer:</b> {element['answer']}<br><b>QID:</b> {element['qid']}\" for element in selected_questions)\n",
    "\n",
    "display(selected_questions_widget)"
   ]
  }
 ],
 "metadata": {
  "kernelspec": {
   "display_name": "medical-vlm-robustness",
   "language": "python",
   "name": "python3"
  },
  "language_info": {
   "codemirror_mode": {
    "name": "ipython",
    "version": 3
   },
   "file_extension": ".py",
   "mimetype": "text/x-python",
   "name": "python",
   "nbconvert_exporter": "python",
   "pygments_lexer": "ipython3",
   "version": "3.10.13"
  }
 },
 "nbformat": 4,
 "nbformat_minor": 2
}
