{
 "cells": [
  {
   "cell_type": "code",
   "execution_count": 1,
   "metadata": {},
   "outputs": [],
   "source": [
    "import json\n",
    "from pathlib import Path\n",
    "import ipywidgets as widgets\n",
    "from IPython.display import display, Image, HTML\n",
    "import random"
   ]
  },
  {
   "cell_type": "code",
   "execution_count": 2,
   "metadata": {},
   "outputs": [
    {
     "data": {
      "application/vnd.jupyter.widget-view+json": {
       "model_id": "71a7ab9edaa34ed886d19aa033037508",
       "version_major": 2,
       "version_minor": 0
      },
      "text/plain": [
       "VBox(children=(HTML(value='<b>Question:</b> Is the nodule in this scan extremely subtle?<br><b>Answer:</b> Yes…"
      ]
     },
     "metadata": {},
     "output_type": "display_data"
    },
    {
     "data": {
      "application/vnd.jupyter.widget-view+json": {
       "model_id": "ccaedc623d3641c8a2cfdaf110adf435",
       "version_major": 2,
       "version_minor": 0
      },
      "text/plain": [
       "HTML(value='')"
      ]
     },
     "metadata": {},
     "output_type": "display_data"
    },
    {
     "name": "stdout",
     "output_type": "stream",
     "text": [
      "saved\n"
     ]
    }
   ],
   "source": [
    "base_path = Path(\"/nvme/VLMRobustness/LIDC\")\n",
    "answer_type = \"CLOSED\"\n",
    "json_file_path = base_path / \"validate.json\"\n",
    "output_file_path = base_path / f\"rater_study_{answer_type.lower()}.json\"\n",
    "\n",
    "with open(json_file_path, 'r') as f:\n",
    "    data = json.load(f)\n",
    "#data = [element for element in data if element.get(\"q_lang\")==\"en\"]\n",
    "data = [element for element in data if element.get(\"answer_type\")==answer_type]\n",
    "\n",
    "# Initialize index and max index\n",
    "current_index = 0\n",
    "max_index = len(data)\n",
    "selected_question_ids = []\n",
    "selected_questions = []\n",
    "\n",
    "def display_current_question():\n",
    "    global current_index\n",
    "    add_button.disabled = False\n",
    "    remove_button.disabled = True\n",
    "    element = data[current_index]\n",
    "    if element[\"qid\"] in selected_question_ids:\n",
    "        add_button.disabled = True\n",
    "        remove_button.disabled = False\n",
    "    id_text.value = \"\"\n",
    "    question_widget.value = f\"<b>Question:</b> {element['question']}<br><b>Answer:</b> {element['answer']}<br><b>QID:</b> {element['qid']}\"\n",
    "\n",
    "def on_next_button_clicked(b):\n",
    "    global current_index, max_index\n",
    "    current_index = (current_index + 1) % max_index\n",
    "    display_current_question()\n",
    "\n",
    "def on_previous_button_clicked(b):\n",
    "    global current_index, max_index\n",
    "    if current_index == 0:\n",
    "        return\n",
    "    current_index = (current_index - 1) % max_index\n",
    "    display_current_question()\n",
    "\n",
    "def on_random_button_clicked(b):\n",
    "    global current_index, max_index\n",
    "    current_index = random.randint(0, max_index)\n",
    "    display_current_question()\n",
    "\n",
    "def on_add_button_clicked(b):\n",
    "    global current_index, max_index, selected_questions, selected_question_ids\n",
    "    element = data[current_index]\n",
    "    selected_question_ids.append(element[\"qid\"])\n",
    "    selected_questions.append(element)\n",
    "    add_button.disabled = True\n",
    "    remove_button.diabled = False\n",
    "    display_selected_questions()\n",
    "\n",
    "def on_remove_button_clicked(b):\n",
    "    global current_index, max_index, selected_questions, selected_question_ids\n",
    "    element = data[current_index]\n",
    "    selected_question_ids.remove(element[\"qid\"])\n",
    "    selected_questions = [e for e in selected_questions if e[\"qid\"]!=element[\"qid\"]]\n",
    "    add_button.disabled = False\n",
    "    remove_button.disabled = True\n",
    "    display_selected_questions()\n",
    "\n",
    "def on_id_button_clicked(b):\n",
    "    global current_index, max_index\n",
    "    question = [(index, element) for index, element in enumerate(data) if str(element[\"qid\"]) == id_text.value]\n",
    "    if len(question) == 1:\n",
    "        current_index = question[0][0]\n",
    "        display_current_question()\n",
    "    else:\n",
    "        print(f\"couldn't find question {id_text.value}\")\n",
    "\n",
    "def on_save_clicked(b):\n",
    "    with open(output_file_path, 'w') as f:\n",
    "        data = json.dump(selected_questions, f, indent=4)\n",
    "    print(\"saved\")\n",
    "\n",
    "\n",
    "question_widget = widgets.HTML()\n",
    "previous_button = widgets.Button(description=\"Previous\")\n",
    "next_button = widgets.Button(description=\"Next\")\n",
    "random_button = widgets.Button(description=\"Random Sample\")\n",
    "add_button = widgets.Button(description=\"Add Sample to Eval\")\n",
    "remove_button = widgets.Button(description=\"Remove Sample from Eval\", enabled=False)\n",
    "id_text = widgets.Text(\n",
    "    value='',\n",
    "    placeholder='',\n",
    "    disabled=False\n",
    ")\n",
    "id_button = widgets.Button(description=\"Jump to ID\")\n",
    "save_button = widgets.Button(description=\"Save questions to file\")\n",
    "\n",
    "next_button.on_click(on_next_button_clicked)\n",
    "previous_button.on_click(on_previous_button_clicked)\n",
    "random_button.on_click(on_random_button_clicked)\n",
    "add_button.on_click(on_add_button_clicked)\n",
    "remove_button.on_click(on_remove_button_clicked)\n",
    "id_button.on_click(on_id_button_clicked)\n",
    "save_button.on_click(on_save_clicked)\n",
    "\n",
    "# Display the first image and information\n",
    "display_current_question()\n",
    "\n",
    "# Layout the widgets\n",
    "buttons_previous_next_random = widgets.HBox([previous_button, next_button, random_button])\n",
    "select_id = widgets.HBox([id_text, id_button])\n",
    "add_remove_button = widgets.HBox([add_button, remove_button])\n",
    "ui = widgets.VBox([question_widget, buttons_previous_next_random, select_id, add_remove_button, save_button])\n",
    "display(ui)\n",
    "\n",
    "selected_questions_widget = widgets.HTML()\n",
    "\n",
    "def display_selected_questions():\n",
    "    selected_questions_widget.value = f\"================<br><b>SELECTED QUESTIONS (total {len(selected_questions)})</b><br>\" +  \"<br>================<br>\".join(f\"<b>Question:</b> {element['question']}<br><b>Answer:</b> {element['answer']}<br><b>QID:</b> {element['qid']}\" for element in selected_questions)\n",
    "\n",
    "display(selected_questions_widget)"
   ]
  }
 ],
 "metadata": {
  "kernelspec": {
   "display_name": "medical-vlm-robustness",
   "language": "python",
   "name": "python3"
  },
  "language_info": {
   "codemirror_mode": {
    "name": "ipython",
    "version": 3
   },
   "file_extension": ".py",
   "mimetype": "text/x-python",
   "name": "python",
   "nbconvert_exporter": "python",
   "pygments_lexer": "ipython3",
   "version": "3.10.13"
  }
 },
 "nbformat": 4,
 "nbformat_minor": 2
}
